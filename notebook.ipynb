{
 "cells": [
  {
   "cell_type": "markdown",
   "id": "494f9b18",
   "metadata": {},
   "source": [
    "## 1 : Chargement et Inspection des Données (EDA)"
   ]
  },
  {
   "cell_type": "markdown",
   "id": "b6c2d1db",
   "metadata": {},
   "source": [
    "### 1.1 Charger les Données et Aperçu Initial\n"
   ]
  },
  {
   "cell_type": "code",
   "execution_count": 6,
   "id": "3b03ca4d",
   "metadata": {},
   "outputs": [
    {
     "data": {
      "text/html": [
       "<div>\n",
       "<style scoped>\n",
       "    .dataframe tbody tr th:only-of-type {\n",
       "        vertical-align: middle;\n",
       "    }\n",
       "\n",
       "    .dataframe tbody tr th {\n",
       "        vertical-align: top;\n",
       "    }\n",
       "\n",
       "    .dataframe thead th {\n",
       "        text-align: right;\n",
       "    }\n",
       "</style>\n",
       "<table border=\"1\" class=\"dataframe\">\n",
       "  <thead>\n",
       "    <tr style=\"text-align: right;\">\n",
       "      <th></th>\n",
       "      <th>Order_ID</th>\n",
       "      <th>Distance_km</th>\n",
       "      <th>Weather</th>\n",
       "      <th>Traffic_Level</th>\n",
       "      <th>Time_of_Day</th>\n",
       "      <th>Vehicle_Type</th>\n",
       "      <th>Preparation_Time_min</th>\n",
       "      <th>Courier_Experience_yrs</th>\n",
       "      <th>Delivery_Time_min</th>\n",
       "    </tr>\n",
       "  </thead>\n",
       "  <tbody>\n",
       "    <tr>\n",
       "      <th>0</th>\n",
       "      <td>522</td>\n",
       "      <td>7.93</td>\n",
       "      <td>Windy</td>\n",
       "      <td>Low</td>\n",
       "      <td>Afternoon</td>\n",
       "      <td>Scooter</td>\n",
       "      <td>12</td>\n",
       "      <td>1.0</td>\n",
       "      <td>43</td>\n",
       "    </tr>\n",
       "    <tr>\n",
       "      <th>1</th>\n",
       "      <td>738</td>\n",
       "      <td>16.42</td>\n",
       "      <td>Clear</td>\n",
       "      <td>Medium</td>\n",
       "      <td>Evening</td>\n",
       "      <td>Bike</td>\n",
       "      <td>20</td>\n",
       "      <td>2.0</td>\n",
       "      <td>84</td>\n",
       "    </tr>\n",
       "    <tr>\n",
       "      <th>2</th>\n",
       "      <td>741</td>\n",
       "      <td>9.52</td>\n",
       "      <td>Foggy</td>\n",
       "      <td>Low</td>\n",
       "      <td>Night</td>\n",
       "      <td>Scooter</td>\n",
       "      <td>28</td>\n",
       "      <td>1.0</td>\n",
       "      <td>59</td>\n",
       "    </tr>\n",
       "    <tr>\n",
       "      <th>3</th>\n",
       "      <td>661</td>\n",
       "      <td>7.44</td>\n",
       "      <td>Rainy</td>\n",
       "      <td>Medium</td>\n",
       "      <td>Afternoon</td>\n",
       "      <td>Scooter</td>\n",
       "      <td>5</td>\n",
       "      <td>1.0</td>\n",
       "      <td>37</td>\n",
       "    </tr>\n",
       "    <tr>\n",
       "      <th>4</th>\n",
       "      <td>412</td>\n",
       "      <td>19.03</td>\n",
       "      <td>Clear</td>\n",
       "      <td>Low</td>\n",
       "      <td>Morning</td>\n",
       "      <td>Bike</td>\n",
       "      <td>16</td>\n",
       "      <td>5.0</td>\n",
       "      <td>68</td>\n",
       "    </tr>\n",
       "    <tr>\n",
       "      <th>5</th>\n",
       "      <td>679</td>\n",
       "      <td>19.40</td>\n",
       "      <td>Clear</td>\n",
       "      <td>Low</td>\n",
       "      <td>Evening</td>\n",
       "      <td>Scooter</td>\n",
       "      <td>8</td>\n",
       "      <td>9.0</td>\n",
       "      <td>57</td>\n",
       "    </tr>\n",
       "    <tr>\n",
       "      <th>6</th>\n",
       "      <td>627</td>\n",
       "      <td>9.52</td>\n",
       "      <td>Clear</td>\n",
       "      <td>Low</td>\n",
       "      <td>NaN</td>\n",
       "      <td>Bike</td>\n",
       "      <td>12</td>\n",
       "      <td>1.0</td>\n",
       "      <td>49</td>\n",
       "    </tr>\n",
       "    <tr>\n",
       "      <th>7</th>\n",
       "      <td>514</td>\n",
       "      <td>17.39</td>\n",
       "      <td>Clear</td>\n",
       "      <td>Medium</td>\n",
       "      <td>Evening</td>\n",
       "      <td>Scooter</td>\n",
       "      <td>5</td>\n",
       "      <td>6.0</td>\n",
       "      <td>46</td>\n",
       "    </tr>\n",
       "    <tr>\n",
       "      <th>8</th>\n",
       "      <td>860</td>\n",
       "      <td>1.78</td>\n",
       "      <td>Snowy</td>\n",
       "      <td>Low</td>\n",
       "      <td>Evening</td>\n",
       "      <td>Car</td>\n",
       "      <td>20</td>\n",
       "      <td>6.0</td>\n",
       "      <td>35</td>\n",
       "    </tr>\n",
       "    <tr>\n",
       "      <th>9</th>\n",
       "      <td>137</td>\n",
       "      <td>10.62</td>\n",
       "      <td>Foggy</td>\n",
       "      <td>Low</td>\n",
       "      <td>Evening</td>\n",
       "      <td>Scooter</td>\n",
       "      <td>29</td>\n",
       "      <td>1.0</td>\n",
       "      <td>73</td>\n",
       "    </tr>\n",
       "    <tr>\n",
       "      <th>10</th>\n",
       "      <td>812</td>\n",
       "      <td>16.86</td>\n",
       "      <td>Snowy</td>\n",
       "      <td>Medium</td>\n",
       "      <td>Afternoon</td>\n",
       "      <td>Car</td>\n",
       "      <td>13</td>\n",
       "      <td>4.0</td>\n",
       "      <td>88</td>\n",
       "    </tr>\n",
       "    <tr>\n",
       "      <th>11</th>\n",
       "      <td>77</td>\n",
       "      <td>15.54</td>\n",
       "      <td>Clear</td>\n",
       "      <td>Low</td>\n",
       "      <td>Night</td>\n",
       "      <td>Bike</td>\n",
       "      <td>29</td>\n",
       "      <td>1.0</td>\n",
       "      <td>76</td>\n",
       "    </tr>\n",
       "    <tr>\n",
       "      <th>12</th>\n",
       "      <td>637</td>\n",
       "      <td>10.89</td>\n",
       "      <td>Clear</td>\n",
       "      <td>High</td>\n",
       "      <td>Night</td>\n",
       "      <td>Bike</td>\n",
       "      <td>12</td>\n",
       "      <td>5.0</td>\n",
       "      <td>53</td>\n",
       "    </tr>\n",
       "    <tr>\n",
       "      <th>13</th>\n",
       "      <td>974</td>\n",
       "      <td>4.69</td>\n",
       "      <td>Rainy</td>\n",
       "      <td>Medium</td>\n",
       "      <td>Evening</td>\n",
       "      <td>Scooter</td>\n",
       "      <td>12</td>\n",
       "      <td>7.0</td>\n",
       "      <td>36</td>\n",
       "    </tr>\n",
       "    <tr>\n",
       "      <th>14</th>\n",
       "      <td>939</td>\n",
       "      <td>2.80</td>\n",
       "      <td>Clear</td>\n",
       "      <td>High</td>\n",
       "      <td>Morning</td>\n",
       "      <td>Scooter</td>\n",
       "      <td>10</td>\n",
       "      <td>NaN</td>\n",
       "      <td>33</td>\n",
       "    </tr>\n",
       "    <tr>\n",
       "      <th>15</th>\n",
       "      <td>900</td>\n",
       "      <td>2.17</td>\n",
       "      <td>Snowy</td>\n",
       "      <td>Low</td>\n",
       "      <td>Evening</td>\n",
       "      <td>Car</td>\n",
       "      <td>15</td>\n",
       "      <td>3.0</td>\n",
       "      <td>35</td>\n",
       "    </tr>\n",
       "    <tr>\n",
       "      <th>16</th>\n",
       "      <td>281</td>\n",
       "      <td>17.86</td>\n",
       "      <td>Rainy</td>\n",
       "      <td>Low</td>\n",
       "      <td>Afternoon</td>\n",
       "      <td>Bike</td>\n",
       "      <td>5</td>\n",
       "      <td>1.0</td>\n",
       "      <td>50</td>\n",
       "    </tr>\n",
       "    <tr>\n",
       "      <th>17</th>\n",
       "      <td>884</td>\n",
       "      <td>2.53</td>\n",
       "      <td>Snowy</td>\n",
       "      <td>Low</td>\n",
       "      <td>Morning</td>\n",
       "      <td>Bike</td>\n",
       "      <td>6</td>\n",
       "      <td>8.0</td>\n",
       "      <td>24</td>\n",
       "    </tr>\n",
       "    <tr>\n",
       "      <th>18</th>\n",
       "      <td>762</td>\n",
       "      <td>6.58</td>\n",
       "      <td>Foggy</td>\n",
       "      <td>Low</td>\n",
       "      <td>Evening</td>\n",
       "      <td>Car</td>\n",
       "      <td>6</td>\n",
       "      <td>7.0</td>\n",
       "      <td>27</td>\n",
       "    </tr>\n",
       "    <tr>\n",
       "      <th>19</th>\n",
       "      <td>320</td>\n",
       "      <td>5.38</td>\n",
       "      <td>Clear</td>\n",
       "      <td>Medium</td>\n",
       "      <td>Evening</td>\n",
       "      <td>Scooter</td>\n",
       "      <td>26</td>\n",
       "      <td>1.0</td>\n",
       "      <td>47</td>\n",
       "    </tr>\n",
       "    <tr>\n",
       "      <th>20</th>\n",
       "      <td>550</td>\n",
       "      <td>15.56</td>\n",
       "      <td>Rainy</td>\n",
       "      <td>Low</td>\n",
       "      <td>Afternoon</td>\n",
       "      <td>Scooter</td>\n",
       "      <td>28</td>\n",
       "      <td>0.0</td>\n",
       "      <td>72</td>\n",
       "    </tr>\n",
       "    <tr>\n",
       "      <th>21</th>\n",
       "      <td>175</td>\n",
       "      <td>13.08</td>\n",
       "      <td>Rainy</td>\n",
       "      <td>Low</td>\n",
       "      <td>Morning</td>\n",
       "      <td>Car</td>\n",
       "      <td>16</td>\n",
       "      <td>4.0</td>\n",
       "      <td>58</td>\n",
       "    </tr>\n",
       "    <tr>\n",
       "      <th>22</th>\n",
       "      <td>372</td>\n",
       "      <td>0.86</td>\n",
       "      <td>Clear</td>\n",
       "      <td>High</td>\n",
       "      <td>Afternoon</td>\n",
       "      <td>Bike</td>\n",
       "      <td>26</td>\n",
       "      <td>5.0</td>\n",
       "      <td>37</td>\n",
       "    </tr>\n",
       "    <tr>\n",
       "      <th>23</th>\n",
       "      <td>528</td>\n",
       "      <td>5.83</td>\n",
       "      <td>Clear</td>\n",
       "      <td>High</td>\n",
       "      <td>Evening</td>\n",
       "      <td>Car</td>\n",
       "      <td>27</td>\n",
       "      <td>9.0</td>\n",
       "      <td>56</td>\n",
       "    </tr>\n",
       "    <tr>\n",
       "      <th>24</th>\n",
       "      <td>211</td>\n",
       "      <td>11.20</td>\n",
       "      <td>Clear</td>\n",
       "      <td>Medium</td>\n",
       "      <td>Morning</td>\n",
       "      <td>Bike</td>\n",
       "      <td>23</td>\n",
       "      <td>NaN</td>\n",
       "      <td>73</td>\n",
       "    </tr>\n",
       "    <tr>\n",
       "      <th>25</th>\n",
       "      <td>236</td>\n",
       "      <td>14.59</td>\n",
       "      <td>Clear</td>\n",
       "      <td>Medium</td>\n",
       "      <td>Morning</td>\n",
       "      <td>Bike</td>\n",
       "      <td>15</td>\n",
       "      <td>6.0</td>\n",
       "      <td>64</td>\n",
       "    </tr>\n",
       "    <tr>\n",
       "      <th>26</th>\n",
       "      <td>102</td>\n",
       "      <td>12.91</td>\n",
       "      <td>Windy</td>\n",
       "      <td>Medium</td>\n",
       "      <td>Evening</td>\n",
       "      <td>Bike</td>\n",
       "      <td>11</td>\n",
       "      <td>6.0</td>\n",
       "      <td>56</td>\n",
       "    </tr>\n",
       "    <tr>\n",
       "      <th>27</th>\n",
       "      <td>987</td>\n",
       "      <td>13.92</td>\n",
       "      <td>Snowy</td>\n",
       "      <td>Low</td>\n",
       "      <td>Morning</td>\n",
       "      <td>Scooter</td>\n",
       "      <td>18</td>\n",
       "      <td>4.0</td>\n",
       "      <td>70</td>\n",
       "    </tr>\n",
       "    <tr>\n",
       "      <th>28</th>\n",
       "      <td>903</td>\n",
       "      <td>4.04</td>\n",
       "      <td>Snowy</td>\n",
       "      <td>Low</td>\n",
       "      <td>Night</td>\n",
       "      <td>Bike</td>\n",
       "      <td>11</td>\n",
       "      <td>9.0</td>\n",
       "      <td>70</td>\n",
       "    </tr>\n",
       "    <tr>\n",
       "      <th>29</th>\n",
       "      <td>948</td>\n",
       "      <td>18.05</td>\n",
       "      <td>Clear</td>\n",
       "      <td>Medium</td>\n",
       "      <td>Evening</td>\n",
       "      <td>Scooter</td>\n",
       "      <td>10</td>\n",
       "      <td>7.0</td>\n",
       "      <td>123</td>\n",
       "    </tr>\n",
       "  </tbody>\n",
       "</table>\n",
       "</div>"
      ],
      "text/plain": [
       "    Order_ID  Distance_km Weather Traffic_Level Time_of_Day Vehicle_Type  \\\n",
       "0        522         7.93   Windy           Low   Afternoon      Scooter   \n",
       "1        738        16.42   Clear        Medium     Evening         Bike   \n",
       "2        741         9.52   Foggy           Low       Night      Scooter   \n",
       "3        661         7.44   Rainy        Medium   Afternoon      Scooter   \n",
       "4        412        19.03   Clear           Low     Morning         Bike   \n",
       "5        679        19.40   Clear           Low     Evening      Scooter   \n",
       "6        627         9.52   Clear           Low         NaN         Bike   \n",
       "7        514        17.39   Clear        Medium     Evening      Scooter   \n",
       "8        860         1.78   Snowy           Low     Evening          Car   \n",
       "9        137        10.62   Foggy           Low     Evening      Scooter   \n",
       "10       812        16.86   Snowy        Medium   Afternoon          Car   \n",
       "11        77        15.54   Clear           Low       Night         Bike   \n",
       "12       637        10.89   Clear          High       Night         Bike   \n",
       "13       974         4.69   Rainy        Medium     Evening      Scooter   \n",
       "14       939         2.80   Clear          High     Morning      Scooter   \n",
       "15       900         2.17   Snowy           Low     Evening          Car   \n",
       "16       281        17.86   Rainy           Low   Afternoon         Bike   \n",
       "17       884         2.53   Snowy           Low     Morning         Bike   \n",
       "18       762         6.58   Foggy           Low     Evening          Car   \n",
       "19       320         5.38   Clear        Medium     Evening      Scooter   \n",
       "20       550        15.56   Rainy           Low   Afternoon      Scooter   \n",
       "21       175        13.08   Rainy           Low     Morning          Car   \n",
       "22       372         0.86   Clear          High   Afternoon         Bike   \n",
       "23       528         5.83   Clear          High     Evening          Car   \n",
       "24       211        11.20   Clear        Medium     Morning         Bike   \n",
       "25       236        14.59   Clear        Medium     Morning         Bike   \n",
       "26       102        12.91   Windy        Medium     Evening         Bike   \n",
       "27       987        13.92   Snowy           Low     Morning      Scooter   \n",
       "28       903         4.04   Snowy           Low       Night         Bike   \n",
       "29       948        18.05   Clear        Medium     Evening      Scooter   \n",
       "\n",
       "    Preparation_Time_min  Courier_Experience_yrs  Delivery_Time_min  \n",
       "0                     12                     1.0                 43  \n",
       "1                     20                     2.0                 84  \n",
       "2                     28                     1.0                 59  \n",
       "3                      5                     1.0                 37  \n",
       "4                     16                     5.0                 68  \n",
       "5                      8                     9.0                 57  \n",
       "6                     12                     1.0                 49  \n",
       "7                      5                     6.0                 46  \n",
       "8                     20                     6.0                 35  \n",
       "9                     29                     1.0                 73  \n",
       "10                    13                     4.0                 88  \n",
       "11                    29                     1.0                 76  \n",
       "12                    12                     5.0                 53  \n",
       "13                    12                     7.0                 36  \n",
       "14                    10                     NaN                 33  \n",
       "15                    15                     3.0                 35  \n",
       "16                     5                     1.0                 50  \n",
       "17                     6                     8.0                 24  \n",
       "18                     6                     7.0                 27  \n",
       "19                    26                     1.0                 47  \n",
       "20                    28                     0.0                 72  \n",
       "21                    16                     4.0                 58  \n",
       "22                    26                     5.0                 37  \n",
       "23                    27                     9.0                 56  \n",
       "24                    23                     NaN                 73  \n",
       "25                    15                     6.0                 64  \n",
       "26                    11                     6.0                 56  \n",
       "27                    18                     4.0                 70  \n",
       "28                    11                     9.0                 70  \n",
       "29                    10                     7.0                123  "
      ]
     },
     "execution_count": 6,
     "metadata": {},
     "output_type": "execute_result"
    }
   ],
   "source": [
    "import pandas as pd\n",
    "\n",
    "# Chargement des données\n",
    "df = pd.read_csv('dataset.csv')\n",
    "\n",
    "# Aperçu initial des données\n",
    "df.head(30)"
   ]
  },
  {
   "cell_type": "code",
   "execution_count": 7,
   "id": "a68385d9",
   "metadata": {},
   "outputs": [
    {
     "data": {
      "text/plain": [
       "(1000, 9)"
      ]
     },
     "execution_count": 7,
     "metadata": {},
     "output_type": "execute_result"
    }
   ],
   "source": [
    "# Affichage de la forme du DataFrame\n",
    "df.shape"
   ]
  },
  {
   "cell_type": "code",
   "execution_count": 8,
   "id": "03176d44",
   "metadata": {},
   "outputs": [
    {
     "data": {
      "text/plain": [
       "['Order_ID',\n",
       " 'Distance_km',\n",
       " 'Weather',\n",
       " 'Traffic_Level',\n",
       " 'Time_of_Day',\n",
       " 'Vehicle_Type',\n",
       " 'Preparation_Time_min',\n",
       " 'Courier_Experience_yrs',\n",
       " 'Delivery_Time_min']"
      ]
     },
     "execution_count": 8,
     "metadata": {},
     "output_type": "execute_result"
    }
   ],
   "source": [
    "#liste des colonnes\n",
    "df.columns.tolist()"
   ]
  },
  {
   "cell_type": "markdown",
   "id": "86bd8a33",
   "metadata": {},
   "source": [
    "### 1.2 Inspection des Types de Données et des Valeurs Manquantes"
   ]
  },
  {
   "cell_type": "code",
   "execution_count": 9,
   "id": "8d058377",
   "metadata": {},
   "outputs": [
    {
     "name": "stdout",
     "output_type": "stream",
     "text": [
      "<class 'pandas.core.frame.DataFrame'>\n",
      "RangeIndex: 1000 entries, 0 to 999\n",
      "Data columns (total 9 columns):\n",
      " #   Column                  Non-Null Count  Dtype  \n",
      "---  ------                  --------------  -----  \n",
      " 0   Order_ID                1000 non-null   int64  \n",
      " 1   Distance_km             1000 non-null   float64\n",
      " 2   Weather                 970 non-null    object \n",
      " 3   Traffic_Level           970 non-null    object \n",
      " 4   Time_of_Day             970 non-null    object \n",
      " 5   Vehicle_Type            1000 non-null   object \n",
      " 6   Preparation_Time_min    1000 non-null   int64  \n",
      " 7   Courier_Experience_yrs  970 non-null    float64\n",
      " 8   Delivery_Time_min       1000 non-null   int64  \n",
      "dtypes: float64(2), int64(3), object(4)\n",
      "memory usage: 70.4+ KB\n"
     ]
    }
   ],
   "source": [
    "# Inspection générale (types et valeurs manquantes)\n",
    "df.info()"
   ]
  },
  {
   "cell_type": "markdown",
   "id": "21e26cb4",
   "metadata": {},
   "source": [
    "#### Analyse et Interprétation des Résultats\n",
    "\n",
    "- **Total des lignes** : 1000 entrées.\n",
    "- **Variable Cible** : `Delivery_Time_min` (cible de la régression) est de type `int64`.\n",
    "- **Variables Catégorielles** : `Weather`, `Traffic_Level`, `Time_of_Day`, `Vehicle_Type` sont de type `object` (chaînes de caractères).\n",
    "- **Variables Numériques** : `Distance_km`, `Preparation_Time_min`, `Courier_Experience_yrs`.\n",
    "\n",
    "#### Problème Identifié (Valeurs Manquantes)\n",
    "\n",
    "- **Weather** : 970 non-nulles (≈30 manquantes).\n",
    "- **Traffic_Level** : 970 non-nulles (≈30 manquantes).\n",
    "- **Courier_Experience_yrs** : 970 non-nulles (≈30 manquantes).\n",
    "\n",
    "#### Conclusion\n",
    "\n",
    "Nous avons des valeurs manquantes dans des colonnes clés. Il faudra les imputer (les remplacer)."
   ]
  },
  {
   "cell_type": "markdown",
   "id": "8d8c9c06",
   "metadata": {},
   "source": [
    "### 1.3 Statistiques Descriptives des Variables Numériques"
   ]
  },
  {
   "cell_type": "code",
   "execution_count": 10,
   "id": "ca8d137a",
   "metadata": {},
   "outputs": [
    {
     "data": {
      "text/html": [
       "<div>\n",
       "<style scoped>\n",
       "    .dataframe tbody tr th:only-of-type {\n",
       "        vertical-align: middle;\n",
       "    }\n",
       "\n",
       "    .dataframe tbody tr th {\n",
       "        vertical-align: top;\n",
       "    }\n",
       "\n",
       "    .dataframe thead th {\n",
       "        text-align: right;\n",
       "    }\n",
       "</style>\n",
       "<table border=\"1\" class=\"dataframe\">\n",
       "  <thead>\n",
       "    <tr style=\"text-align: right;\">\n",
       "      <th></th>\n",
       "      <th>Order_ID</th>\n",
       "      <th>Distance_km</th>\n",
       "      <th>Preparation_Time_min</th>\n",
       "      <th>Courier_Experience_yrs</th>\n",
       "      <th>Delivery_Time_min</th>\n",
       "    </tr>\n",
       "  </thead>\n",
       "  <tbody>\n",
       "    <tr>\n",
       "      <th>count</th>\n",
       "      <td>1000.000000</td>\n",
       "      <td>1000.000000</td>\n",
       "      <td>1000.000000</td>\n",
       "      <td>970.000000</td>\n",
       "      <td>1000.000000</td>\n",
       "    </tr>\n",
       "    <tr>\n",
       "      <th>mean</th>\n",
       "      <td>500.500000</td>\n",
       "      <td>10.059970</td>\n",
       "      <td>16.982000</td>\n",
       "      <td>4.579381</td>\n",
       "      <td>56.732000</td>\n",
       "    </tr>\n",
       "    <tr>\n",
       "      <th>std</th>\n",
       "      <td>288.819436</td>\n",
       "      <td>5.696656</td>\n",
       "      <td>7.204553</td>\n",
       "      <td>2.914394</td>\n",
       "      <td>22.070915</td>\n",
       "    </tr>\n",
       "    <tr>\n",
       "      <th>min</th>\n",
       "      <td>1.000000</td>\n",
       "      <td>0.590000</td>\n",
       "      <td>5.000000</td>\n",
       "      <td>0.000000</td>\n",
       "      <td>8.000000</td>\n",
       "    </tr>\n",
       "    <tr>\n",
       "      <th>25%</th>\n",
       "      <td>250.750000</td>\n",
       "      <td>5.105000</td>\n",
       "      <td>11.000000</td>\n",
       "      <td>2.000000</td>\n",
       "      <td>41.000000</td>\n",
       "    </tr>\n",
       "    <tr>\n",
       "      <th>50%</th>\n",
       "      <td>500.500000</td>\n",
       "      <td>10.190000</td>\n",
       "      <td>17.000000</td>\n",
       "      <td>5.000000</td>\n",
       "      <td>55.500000</td>\n",
       "    </tr>\n",
       "    <tr>\n",
       "      <th>75%</th>\n",
       "      <td>750.250000</td>\n",
       "      <td>15.017500</td>\n",
       "      <td>23.000000</td>\n",
       "      <td>7.000000</td>\n",
       "      <td>71.000000</td>\n",
       "    </tr>\n",
       "    <tr>\n",
       "      <th>max</th>\n",
       "      <td>1000.000000</td>\n",
       "      <td>19.990000</td>\n",
       "      <td>29.000000</td>\n",
       "      <td>9.000000</td>\n",
       "      <td>153.000000</td>\n",
       "    </tr>\n",
       "  </tbody>\n",
       "</table>\n",
       "</div>"
      ],
      "text/plain": [
       "          Order_ID  Distance_km  Preparation_Time_min  Courier_Experience_yrs  \\\n",
       "count  1000.000000  1000.000000           1000.000000              970.000000   \n",
       "mean    500.500000    10.059970             16.982000                4.579381   \n",
       "std     288.819436     5.696656              7.204553                2.914394   \n",
       "min       1.000000     0.590000              5.000000                0.000000   \n",
       "25%     250.750000     5.105000             11.000000                2.000000   \n",
       "50%     500.500000    10.190000             17.000000                5.000000   \n",
       "75%     750.250000    15.017500             23.000000                7.000000   \n",
       "max    1000.000000    19.990000             29.000000                9.000000   \n",
       "\n",
       "       Delivery_Time_min  \n",
       "count        1000.000000  \n",
       "mean           56.732000  \n",
       "std            22.070915  \n",
       "min             8.000000  \n",
       "25%            41.000000  \n",
       "50%            55.500000  \n",
       "75%            71.000000  \n",
       "max           153.000000  "
      ]
     },
     "execution_count": 10,
     "metadata": {},
     "output_type": "execute_result"
    }
   ],
   "source": [
    "#Statistiques descriptives des colonnes numériques\n",
    "df.describe()"
   ]
  },
  {
   "cell_type": "markdown",
   "id": "258002de",
   "metadata": {},
   "source": [
    "#### Analyse des Variables Numériques\n",
    "\n",
    "- **Distance_km** : Les distances sont réalistes (entre 0.59 km et 20 km).\n",
    "- **Preparation_Time_min** : Le temps de préparation varie entre 5 et 30 minutes.\n",
    "- **Courier_Experience_yrs** : L'expérience varie de 0 à 9 ans.\n",
    "- **Delivery_Time_min (Cible)** : Le temps de livraison moyen est de ≈60 minutes, avec un écart-type de ≈20 minutes. "
   ]
  },
  {
   "cell_type": "markdown",
   "id": "9cbb4fdc",
   "metadata": {},
   "source": [
    "### 1.4 Gestion des Valeurs Manquantes (Imputation)"
   ]
  },
  {
   "cell_type": "markdown",
   "id": "44fb4fa3",
   "metadata": {},
   "source": [
    "#### Remplacement des Valeurs Manquantes\n",
    "\n",
    "- **Pour les colonnes numériques (Courier_Experience_yrs)** : Utilisation de la médiane.\n",
    "- **Pour les colonnes catégorielles (Weather et Traffic_Level)** : Utilisation du mode (la valeur la plus fréquente)."
   ]
  },
  {
   "cell_type": "code",
   "execution_count": 11,
   "id": "e35a3894",
   "metadata": {},
   "outputs": [
    {
     "name": "stdout",
     "output_type": "stream",
     "text": [
      "\n",
      " Valeurs manquantes imputées :\n",
      "   - Courier_Experience_yrs : imputé par la Médiane (5.0 ans)\n",
      "   - Weather & Traffic_Level : imputé par le Mode\n",
      "\n",
      " --- Vérification finale des valeurs manquantes (doit être 0) ---\n",
      "Order_ID                  0\n",
      "Distance_km               0\n",
      "Weather                   0\n",
      "Traffic_Level             0\n",
      "Time_of_Day               0\n",
      "Vehicle_Type              0\n",
      "Preparation_Time_min      0\n",
      "Courier_Experience_yrs    0\n",
      "Delivery_Time_min         0\n",
      "dtype: int64\n"
     ]
    }
   ],
   "source": [
    "# 1. Imputation pour la variable numérique 'Courier_Experience_yrs'\n",
    "\n",
    "# Calculer la médiane de la colonne\n",
    "median_experience = df['Courier_Experience_yrs'].median()\n",
    "\n",
    "# Remplacer les valeurs manquantes par la médiane\n",
    "df['Courier_Experience_yrs'] = df['Courier_Experience_yrs'].fillna(median_experience)\n",
    "\n",
    "\n",
    "# 2. Imputation pour les variables catégorielles 'Weather' et 'Traffic_Level'\n",
    "\n",
    "for column in ['Weather', 'Traffic_Level','Time_of_Day']:\n",
    "    # Calculer le mode (valeur la plus fréquente)\n",
    "    mode_value = df[column].mode()[0] # mode() retourne une Série, on prend le premier élément\n",
    "    \n",
    "    # Remplacer les valeurs manquantes par le mode\n",
    "    df[column] = df[column].fillna(mode_value)\n",
    "    \n",
    "# Résumé des actions d'imputation\n",
    "\n",
    "print(f\"\\n Valeurs manquantes imputées :\")\n",
    "print(f\"   - Courier_Experience_yrs : imputé par la Médiane ({median_experience} ans)\")\n",
    "print(f\"   - Weather & Traffic_Level : imputé par le Mode\")\n",
    "\n",
    "# Vérification finale après imputation\n",
    "print(\"\\n --- Vérification finale des valeurs manquantes (doit être 0) ---\")\n",
    "print(df.isnull().sum())"
   ]
  },
  {
   "cell_type": "markdown",
   "id": "906cc172",
   "metadata": {},
   "source": [
    "### 1.5 Nettoyage des Variables Catégorielles (Valeurs Uniques)\n"
   ]
  },
  {
   "cell_type": "code",
   "execution_count": 12,
   "id": "5816945c",
   "metadata": {},
   "outputs": [
    {
     "name": "stdout",
     "output_type": "stream",
     "text": [
      "Weather\n",
      "Clear    500\n",
      "Rainy    204\n",
      "Foggy    103\n",
      "Snowy     97\n",
      "Windy     96\n",
      "Name: count, dtype: int64\n",
      "Traffic_Level\n",
      "Medium    420\n",
      "Low       383\n",
      "High      197\n",
      "Name: count, dtype: int64\n",
      "Time_of_Day\n",
      "Morning      338\n",
      "Evening      293\n",
      "Afternoon    284\n",
      "Night         85\n",
      "Name: count, dtype: int64\n",
      "Vehicle_Type\n",
      "Bike       503\n",
      "Scooter    302\n",
      "Car        195\n",
      "Name: count, dtype: int64\n"
     ]
    }
   ],
   "source": [
    "for column in df.columns:\n",
    "    if df[column].dtype == 'object':\n",
    "       print(df[column].value_counts())"
   ]
  },
  {
   "cell_type": "markdown",
   "id": "3db1dc6f",
   "metadata": {},
   "source": [
    "\n",
    "- Les catégories sont uniques."
   ]
  },
  {
   "cell_type": "markdown",
   "id": "fc580686",
   "metadata": {},
   "source": [
    "## 2. Analyse de la Distribution de chaque Variable (Visualisation)"
   ]
  },
  {
   "cell_type": "markdown",
   "id": "1a72f802",
   "metadata": {},
   "source": [
    "### 2.1 Analyse de la Distribution de la Variable Cible (Delivery_Time_min)"
   ]
  },
  {
   "cell_type": "code",
   "execution_count": 13,
   "id": "54c31ffa",
   "metadata": {},
   "outputs": [
    {
     "data": {
      "image/png": "[encoded data removed]",
      "text/plain": [
       "<Figure size 1000x600 with 1 Axes>"
      ]
     },
     "metadata": {},
     "output_type": "display_data"
    },
    {
     "name": "stdout",
     "output_type": "stream",
     "text": [
      "\n",
      "--- Statistiques de la variable cible ---\n",
      "count    1000.000000\n",
      "mean       56.732000\n",
      "std        22.070915\n",
      "min         8.000000\n",
      "25%        41.000000\n",
      "50%        55.500000\n",
      "75%        71.000000\n",
      "max       153.000000\n",
      "Name: Delivery_Time_min, dtype: float64\n"
     ]
    }
   ],
   "source": [
    "import matplotlib.pyplot as plt\n",
    "import seaborn as sns\n",
    "\n",
    "# Configurer le style des graphiques\n",
    "sns.set_style(\"whitegrid\")\n",
    "plt.figure(figsize=(10, 6))\n",
    "\n",
    "# Histogramme et densité\n",
    "sns.histplot(df['Delivery_Time_min'], kde=True, bins=20, color='skyblue')\n",
    "plt.title('Distribution du Temps de Livraison (Delivery_Time_min)', fontsize=15)\n",
    "plt.xlabel('Temps de Livraison (minutes)', fontsize=12)\n",
    "plt.ylabel('Fréquence', fontsize=12)\n",
    "plt.show()\n",
    "\n",
    "# Calcul des statistiques clés\n",
    "print(\"\\n--- Statistiques de la variable cible ---\")\n",
    "print(df['Delivery_Time_min'].describe())"
   ]
  },
  {
   "cell_type": "code",
   "execution_count": 14,
   "id": "a1a9eda5",
   "metadata": {},
   "outputs": [
    {
     "data": {
      "text/plain": [
       "Delivery_Time_min\n",
       "71     23\n",
       "44     22\n",
       "48     22\n",
       "43     21\n",
       "51     21\n",
       "       ..\n",
       "103     1\n",
       "99      1\n",
       "126     1\n",
       "122     1\n",
       "114     1\n",
       "Name: count, Length: 108, dtype: int64"
      ]
     },
     "execution_count": 14,
     "metadata": {},
     "output_type": "execute_result"
    }
   ],
   "source": [
    "df['Delivery_Time_min'].value_counts()\n"
   ]
  },
  {
   "cell_type": "markdown",
   "id": "0ace41d4",
   "metadata": {},
   "source": [
    "#### Analyse de la Distribution de Delivery_Time_min\n",
    "\n",
    "- **Forme** : La distribution semble relativement symétrique et légèrement étalée autour de la moyenne. C'est une bonne nouvelle, car cela suggère qu'un modèle de régression standard fonctionnera bien sans transformation complexe de la cible.\n",
    "- **Moyenne vs Médiane** : Si la moyenne (≈56.73 min) et la médiane (≈60 min) sont très proches, cela confirme la symétrie de la distribution.\n",
    "- **Plage de Valeurs** : La majorité des livraisons se font entre 40 et 80 minutes, mais les extrêmes (20 min et 100 min) sont gérables."
   ]
  },
  {
   "cell_type": "markdown",
   "id": "73a0b6ae",
   "metadata": {},
   "source": [
    "### 2.2 Heatmap de Corrélation des Variables Numériques"
   ]
  },
  {
   "cell_type": "code",
   "execution_count": 26,
   "id": "e1a68f3d",
   "metadata": {},
   "outputs": [
    {
     "data": {
      "image/png": "[encoded data removed]",
      "text/plain": [
       "<Figure size 800x600 with 2 Axes>"
      ]
     },
     "metadata": {},
     "output_type": "display_data"
    }
   ],
   "source": [
    "# Sélectionner uniquement les colonnes numériques\n",
    "numeric_df = df[['Distance_km', 'Preparation_Time_min', 'Courier_Experience_yrs', 'Delivery_Time_min']]\n",
    "\n",
    "# Calculer la matrice de corrélation\n",
    "correlation_matrix = numeric_df.corr()\n",
    "\n",
    "plt.figure(figsize=(8, 6))\n",
    "sns.heatmap(correlation_matrix, \n",
    "            annot=True, # Afficher les valeurs de corrélation\n",
    "            cmap='coolwarm', # Choisir une palette de couleurs\n",
    "            fmt=\".2f\", # Format à 2 décimales\n",
    "            linewidths=.5, # Ajouter des lignes pour séparer les cellules\n",
    "            cbar_kws={'label': 'Coefficient de Corrélation'})\n",
    "plt.title('Heatmap de Corrélation des Variables Numériques', fontsize=15)\n",
    "plt.show()"
   ]
  },
  {
   "cell_type": "markdown",
   "id": "09323cc2",
   "metadata": {},
   "source": [
    "\n",
    "- **Distance_km** : est la feature la plus influente dans notre modèle de prédiction."
   ]
  },
  {
   "cell_type": "markdown",
   "id": "3576facc",
   "metadata": {},
   "source": [
    "### 2.4 Distribution des Variables Catégorielles (Countplots)"
   ]
  },
  {
   "cell_type": "code",
   "execution_count": 17,
   "id": "ca871b4d",
   "metadata": {},
   "outputs": [
    {
     "data": {
      "image/png": "[encoded data removed]",
      "text/plain": [
       "<Figure size 640x480 with 1 Axes>"
      ]
     },
     "metadata": {},
     "output_type": "display_data"
    },
    {
     "data": {
      "image/png": "[encoded data removed]",
      "text/plain": [
       "<Figure size 640x480 with 1 Axes>"
      ]
     },
     "metadata": {},
     "output_type": "display_data"
    },
    {
     "data": {
      "image/png": "[encoded data removed]",
      "text/plain": [
       "<Figure size 640x480 with 1 Axes>"
      ]
     },
     "metadata": {},
     "output_type": "display_data"
    },
    {
     "data": {
      "image/png": "[encoded data removed]",
      "text/plain": [
       "<Figure size 640x480 with 1 Axes>"
      ]
     },
     "metadata": {},
     "output_type": "display_data"
    }
   ],
   "source": [
    "categorical_columns = ['Weather', 'Traffic_Level', 'Time_of_Day', 'Vehicle_Type']\n",
    "y=df['Delivery_Time_min']\n",
    "import matplotlib.pyplot as plt\n",
    "import seaborn as sns\n",
    "\n",
    "for colum in categorical_columns:\n",
    "    sns.countplot(data=df, x=colum, hue=y.count())\n",
    "    plt.show()"
   ]
  },
  {
   "cell_type": "markdown",
   "id": "ef883d95",
   "metadata": {},
   "source": [
    "#### Analyse des Variables Catégorielles\n",
    "\n",
    "- **Weather** : La moitié des livraisons s'effectuent par temps clair. Les modèles auront beaucoup de données pour apprendre la relation dans ces conditions. Les conditions \"Snowy\" (97) et \"Windy\" (96) sont les moins fréquentes, le modèle pourrait avoir plus de difficultés à généraliser pour ces cas rares.\n",
    "- **Traffic_Level** : Le trafic est principalement Moyen ou Faible, représentant plus de 80% des commandes. Seules 19.7% des commandes (197) ont lieu sous trafic Élevé (High). Si le trafic élevé cause des retards importants, le modèle devra bien apprendre cette minorité pour être précis.\n",
    "- **Time_of_Day** : La répartition est relativement équilibrée entre Matin, Soir et Après-midi. Le creux d'activité se situe la Nuit (85 commandes, seulement 8.5% du total). Le temps de livraison la nuit pourrait être très différent (plus court) et le modèle aura moins de données pour apprendre cette relation.\n",
    "- **Vehicle_Type** : Le Vélo est le moyen de transport le plus courant, impliqué dans la moitié des livraisons. C'est attendu dans un environnement urbain. La Voiture (Car) est le type le moins utilisé. Le modèle attribuera donc plus d'importance aux caractéristiques de la livraison à vélo."
   ]
  },
  {
   "cell_type": "markdown",
   "id": "d5c986d1",
   "metadata": {},
   "source": [
    "### 2.3 Boxplots : Relation entre Cible et Variables Catégorielles"
   ]
  },
  {
   "cell_type": "code",
   "execution_count": 18,
   "id": "ccec7f5a",
   "metadata": {},
   "outputs": [
    {
     "data": {
      "image/png": "[encoded data removed]",
      "text/plain": [
       "<Figure size 1500x1000 with 4 Axes>"
      ]
     },
     "metadata": {},
     "output_type": "display_data"
    }
   ],
   "source": [
    "# --- Boxplots Cible vs Catégorielle ---\n",
    "categorical_cols = ['Weather', 'Traffic_Level', 'Time_of_Day', 'Vehicle_Type']\n",
    "\n",
    "plt.figure(figsize=(15, 10))\n",
    "\n",
    "for i, col in enumerate(categorical_cols):\n",
    "    plt.subplot(2, 2, i + 1)  # Créer une grille 2x2 de sous-graphiques\n",
    "    sns.boxplot(x=col, y='Delivery_Time_min', hue=col, data=df, palette='Spectral', legend=False)\n",
    "    plt.title(f'{col} vs Delivery Time', fontsize=14)\n",
    "    plt.xlabel(col, fontsize=11)\n",
    "    plt.ylabel('Temps de Livraison (min)', fontsize=11)\n",
    "    \n",
    "plt.tight_layout()  # Ajuster automatiquement les sous-graphiques pour éviter le chevauchement\n",
    "plt.show()"
   ]
  },
  {
   "cell_type": "markdown",
   "id": "d46afaf8",
   "metadata": {},
   "source": [
    "## Analyse des Relations avec Delivery_Time_min\n",
    "\n",
    "- **Weather vs Delivery_Time_min** :  \n",
    "  - Les distributions (médianes) pour Clear, Foggy, et Windy sont assez similaires.  \n",
    "  - Le temps de livraison semble légèrement plus élevé pour Rainy et Snowy, avec des distributions plus étalées (plus d'incertitude).  \n",
    "  - **Conclusion** : Weather est explicative, mais son impact est moins prononcé que le niveau de trafic.\n",
    "\n",
    "- **Traffic_Level vs Delivery_Time_min** :  \n",
    "  - Différence très claire. La médiane du temps de livraison augmente de façon monotone de Low à High. Le trafic élevé (High) a la médiane et la plage de valeurs les plus élevées.  \n",
    "  - **Conclusion** : Traffic_Level est une variable très explicative et importante.\n",
    "\n",
    "- **Vehicle_Type vs Delivery_Time_min** :  \n",
    "  - La Bike (Vélo) a la médiane la plus basse, suivi par le Scooter, et la Car (Voiture) a la médiane la plus haute. Cela pourrait être lié au fait que les voitures sont utilisées pour les livraisons plus lointaines (corrélation cachée avec Distance_km) ou sont plus affectées par le trafic.  \n",
    "  - **Conclusion** : Vehicle_Type est explicative."
   ]
  },
  {
   "cell_type": "markdown",
   "id": "e2566f4c",
   "metadata": {},
   "source": [
    "### 2.4 Synthèse de l'EDA"
   ]
  },
  {
   "cell_type": "markdown",
   "id": "a2f2cf95",
   "metadata": {},
   "source": [
    "#### Facteurs Clés Influençant Delivery_Time_min\n",
    "\n",
    "| Classe de Feature | Feature                | Relation avec Delivery_Time_min                     | Niveau d'Importance         |\n",
    "|-------------------|------------------------|----------------------------------------------------|-----------------------------|\n",
    "| Numérique         | Distance_km            | Forte Corrélation Positive                         | Primaire (la plus importante) |\n",
    "| Catégorielle      | Traffic_Level          | Augmentation nette du temps avec le niveau         | Primaire                    |\n",
    "| Catégorielle      | Time_of_Day            | Faible la nuit, élevé l'après-midi/soir            | Secondaire/Primaire         |\n",
    "| Numérique         | Preparation_Time_min    | Corrélation Positive modérée                       | Secondaire                  |\n",
    "| Catégorielle      | Vehicle_Type           | Variation notable (Bike vs Car)                    | Secondaire                  |\n",
    "| Catégorielle      | Weather                | Léger impact (neige/pluie)                         | Tertiaire                   |\n",
    "| Numérique         | Courier_Experience_yrs | Très faible impact négatif                         | Négligeable                 |\n",
    "\n",
    "### Conclusion\n",
    "L'EDA a permis d'identifier les facteurs clés influençant le temps de livraison, avec `Distance_km` et `Traffic_Level` comme variables primaires, suivies par `Time_of_Day`, `Preparation_Time_min`, et `Vehicle_Type` comme variables secondaires. `Weather` a un impact tertiaire, tandis que `Courier_Experience_yrs` est négligeable."
   ]
  },
  {
   "cell_type": "markdown",
   "id": "c1fbb00b",
   "metadata": {},
   "source": [
    "## 3 : Prétraitement et Séparation des Données"
   ]
  },
  {
   "cell_type": "markdown",
   "id": "91b043db",
   "metadata": {},
   "source": [
    "### 3.1 Séparation des Features (X) et de la Cible (y)"
   ]
  },
  {
   "cell_type": "code",
   "execution_count": 19,
   "id": "926449bf",
   "metadata": {},
   "outputs": [
    {
     "name": "stdout",
     "output_type": "stream",
     "text": [
      "Dimensions des Features (X) : (1000, 7)\n",
      "Dimensions de la Cible (y) : (1000,)\n",
      "\n",
      "Variables explicatives utilisées :\n",
      "   Distance_km Weather Traffic_Level Time_of_Day Vehicle_Type  \\\n",
      "0         7.93   Windy           Low   Afternoon      Scooter   \n",
      "\n",
      "   Preparation_Time_min  Courier_Experience_yrs  \n",
      "0                    12                     1.0  \n"
     ]
    }
   ],
   "source": [
    "# Nous allons utiliser le DataFrame 'df' nettoyé lors de l'Étape 1\n",
    "import pandas as pd # Assurez-vous que df est toujours défini avec les corrections d'imputation\n",
    "\n",
    "# 1. Définir les Features (X) et la Cible (y)\n",
    "X = df.drop(columns=['Delivery_Time_min', 'Order_ID']) # Order_ID n'est pas explicatif\n",
    "y = df['Delivery_Time_min']\n",
    "\n",
    "print(f\"Dimensions des Features (X) : {X.shape}\")\n",
    "print(f\"Dimensions de la Cible (y) : {y.shape}\")\n",
    "print(\"\\nVariables explicatives utilisées :\")\n",
    "print(X.head(1))"
   ]
  },
  {
   "cell_type": "markdown",
   "id": "bffddd8c",
   "metadata": {},
   "source": [
    "### 3.2 Division en Jeux d'Entraînement et de Test"
   ]
  },
  {
   "cell_type": "code",
   "execution_count": 20,
   "id": "389a115e",
   "metadata": {},
   "outputs": [
    {
     "name": "stdout",
     "output_type": "stream",
     "text": [
      "\n",
      " Séparation des données effectuée avec test_size=0.2 (20%)\n",
      "   Jeu d'entraînement X_train : 800 observations\n",
      "   Jeu de test X_test : 200 observations\n"
     ]
    }
   ],
   "source": [
    "from sklearn.model_selection import train_test_split\n",
    "\n",
    "# 2. Division des données (80% entraînement, 20% test)\n",
    "\n",
    "# random_state=42 assure que la division est la même à chaque exécution (reproductibilité)\n",
    "X_train, X_test, y_train, y_test = train_test_split(\n",
    "    X, y, test_size=0.2, random_state=42\n",
    ")\n",
    "\n",
    "print(f\"\\n Séparation des données effectuée avec test_size=0.2 (20%)\")\n",
    "print(f\"   Jeu d'entraînement X_train : {X_train.shape[0]} observations\")\n",
    "print(f\"   Jeu de test X_test : {X_test.shape[0]} observations\")"
   ]
  },
  {
   "cell_type": "markdown",
   "id": "19853164",
   "metadata": {},
   "source": [
    "### 3.3 Définition des Pipelines de Prétraitement (Exigence du Bonus)"
   ]
  },
  {
   "cell_type": "code",
   "execution_count": 21,
   "id": "c64ee0e3",
   "metadata": {},
   "outputs": [
    {
     "name": "stdout",
     "output_type": "stream",
     "text": [
      "\n",
      " ColumnTransformer pour le prétraitement des données défini.\n",
      "   - Numérique : StandardScaler (Moyenne 0, Écart-type 1)\n",
      "   - Catégorielle : OneHotEncoder (Conversion en colonnes binaires)\n"
     ]
    }
   ],
   "source": [
    "from sklearn.preprocessing import StandardScaler, OneHotEncoder\n",
    "from sklearn.compose import ColumnTransformer\n",
    "\n",
    "# 1. Identifier les colonnes\n",
    "\n",
    "numerical_features = ['Distance_km', 'Preparation_Time_min', 'Courier_Experience_yrs']\n",
    "categorical_features = ['Weather', 'Traffic_Level', 'Time_of_Day', 'Vehicle_Type']\n",
    "\n",
    "\n",
    "# 2. Créer les Pipelines de transformation pour chaque type\n",
    "\n",
    "# Pipeline pour les données numériques\n",
    "numerical_transformer = StandardScaler()\n",
    "\n",
    "# Pipeline pour les données catégorielles\n",
    "# handle_unknown='ignore' permet d'éviter les erreurs si une nouvelle catégorie apparaît dans le jeu de test\n",
    "categorical_transformer = OneHotEncoder(handle_unknown='ignore')\n",
    "\n",
    "\n",
    "# 3. Combiner les transformations avec ColumnTransformer\n",
    "\n",
    "# Il applique chaque transformateur uniquement aux colonnes spécifiées\n",
    "preprocessor = ColumnTransformer(\n",
    "    transformers=[\n",
    "        ('num', numerical_transformer, numerical_features),\n",
    "        ('cat', categorical_transformer, categorical_features)\n",
    "    ]\n",
    "    \n",
    ")\n",
    "\n",
    "print(\"\\n ColumnTransformer pour le prétraitement des données défini.\")\n",
    "print(\"   - Numérique : StandardScaler (Moyenne 0, Écart-type 1)\")\n",
    "print(\"   - Catégorielle : OneHotEncoder (Conversion en colonnes binaires)\")"
   ]
  },
  {
   "cell_type": "markdown",
   "id": "033fce30",
   "metadata": {},
   "source": [
    "### 3.4 Application du Prétraitement "
   ]
  },
  {
   "cell_type": "code",
   "execution_count": 22,
   "id": "521ff5ee",
   "metadata": {},
   "outputs": [
    {
     "name": "stdout",
     "output_type": "stream",
     "text": [
      "\n",
      "Dimensions de X_train après prétraitement : (800, 18)\n",
      "Dimensions de X_test après prétraitement : (200, 18)\n",
      "Total de 18 features après encodage One-Hot.\n",
      "\n",
      "--- Aperçu des Features transformées (X_train) ---\n",
      "   Distance_km  Preparation_Time_min  Courier_Experience_yrs  Weather_Clear  \\\n",
      "0     1.389200             -0.980721                0.820833            1.0   \n",
      "1    -1.391140              0.126852               -0.557994            1.0   \n",
      "2    -1.200658             -0.011595                1.510246            1.0   \n",
      "3    -0.452710              1.372871                0.476126            0.0   \n",
      "4    -0.957750             -1.257614               -0.557994            0.0   \n",
      "\n",
      "   Weather_Foggy  Weather_Rainy  Weather_Snowy  Weather_Windy  \\\n",
      "0            0.0            0.0            0.0            0.0   \n",
      "1            0.0            0.0            0.0            0.0   \n",
      "2            0.0            0.0            0.0            0.0   \n",
      "3            0.0            1.0            0.0            0.0   \n",
      "4            0.0            1.0            0.0            0.0   \n",
      "\n",
      "   Traffic_Level_High  Traffic_Level_Low  Traffic_Level_Medium  \\\n",
      "0                 0.0                0.0                   1.0   \n",
      "1                 1.0                0.0                   0.0   \n",
      "2                 1.0                0.0                   0.0   \n",
      "3                 0.0                1.0                   0.0   \n",
      "4                 0.0                0.0                   1.0   \n",
      "\n",
      "   Time_of_Day_Afternoon  Time_of_Day_Evening  Time_of_Day_Morning  \\\n",
      "0                    0.0                  1.0                  0.0   \n",
      "1                    0.0                  1.0                  0.0   \n",
      "2                    1.0                  0.0                  0.0   \n",
      "3                    0.0                  1.0                  0.0   \n",
      "4                    1.0                  0.0                  0.0   \n",
      "\n",
      "   Time_of_Day_Night  Vehicle_Type_Bike  Vehicle_Type_Car  \\\n",
      "0                0.0                0.0               0.0   \n",
      "1                0.0                1.0               0.0   \n",
      "2                0.0                1.0               0.0   \n",
      "3                0.0                0.0               1.0   \n",
      "4                0.0                0.0               1.0   \n",
      "\n",
      "   Vehicle_Type_Scooter  \n",
      "0                   1.0  \n",
      "1                   0.0  \n",
      "2                   0.0  \n",
      "3                   0.0  \n",
      "4                   0.0  \n"
     ]
    }
   ],
   "source": [
    "# Application du prétraitement uniquement sur le jeu d'ENTRAINEMENT (fit_transform)\n",
    "X_train_processed = preprocessor.fit_transform(X_train)\n",
    "\n",
    "# Appliquer la même transformation sur le jeu de TEST (transform)\n",
    "X_test_processed = preprocessor.transform(X_test)\n",
    "\n",
    "\n",
    "# Afficher la forme des nouvelles données\n",
    "print(f\"\\nDimensions de X_train après prétraitement : {X_train_processed.shape}\")\n",
    "print(f\"Dimensions de X_test après prétraitement : {X_test_processed.shape}\")\n",
    "\n",
    "# Afficher le nom des nouvelles colonnes\n",
    "feature_names = numerical_features + list(preprocessor.named_transformers_['cat'].get_feature_names_out(categorical_features))\n",
    "print(f\"Total de {len(feature_names)} features après encodage One-Hot.\")\n",
    "\n",
    "# Créer un aperçu des données transformées (pour vérification)\n",
    "pd.set_option('display.max_columns', None)\n",
    "df_processed_preview = pd.DataFrame(X_train_processed, columns=feature_names)\n",
    "print(\"\\n--- Aperçu des Features transformées (X_train) ---\")\n",
    "print(df_processed_preview.head())"
   ]
  },
  {
   "cell_type": "markdown",
   "id": "190e12d6",
   "metadata": {},
   "source": [
    "### Exemple : Modèle de Régression"
   ]
  },
  {
   "cell_type": "code",
   "execution_count": 23,
   "id": "0565a06d",
   "metadata": {},
   "outputs": [
    {
     "name": "stdout",
     "output_type": "stream",
     "text": [
      "\n",
      " Score R² du modèle sur le jeu de test : 0.7869\n"
     ]
    }
   ],
   "source": [
    "from sklearn.pipeline import Pipeline\n",
    "from sklearn.ensemble import RandomForestRegressor\n",
    "from sklearn.feature_selection import SelectKBest,f_regression\n",
    "\n",
    "\n",
    "# Notre preprocessor est défini \n",
    "\n",
    "# Définir le modèle\n",
    "model = RandomForestRegressor(random_state=42)\n",
    "\n",
    "# Créer le Pipeline complet\n",
    "full_pipeline = Pipeline(steps=[\n",
    "    ('preprocessor', preprocessor),   # Le ColumnTransformer fait l'encodage et le scaling\n",
    "    ('selector', SelectKBest(score_func=f_regression,k=10)), # Sélection des 5 meilleures features\n",
    "    ('regressor', model)              # Le modèle de régression\n",
    "])\n",
    "\n",
    "# Entraînement du Pipeline :\n",
    "\n",
    "# Il exécute le fit sur le preprocessor et le selector, puis entraîne le regressor.\n",
    "full_pipeline.fit(X_train, y_train) \n",
    "\n",
    "# Évaluation du Pipeline (Test) :\n",
    "\n",
    "# Il exécute uniquement le transform sur le preprocessor et le selector, puis prédit.\n",
    "score = full_pipeline.score(X_test, y_test)\n",
    "print(\"\\n Score R² du modèle sur le jeu de test : {:.4f}\".format(score))\n"
   ]
  },
  {
   "cell_type": "markdown",
   "id": "3d98ff0d",
   "metadata": {},
   "source": [
    "##  4 : Modélisation et Optimisation (GridSearchCV)"
   ]
  },
  {
   "cell_type": "markdown",
   "id": "5b725ef6",
   "metadata": {},
   "source": [
    "### 4.1 Modèle de Random Forest Regressor : Optimisation par GridSearchCV et Validation Croisée"
   ]
  },
  {
   "cell_type": "code",
   "execution_count": 24,
   "id": "5a171bfe",
   "metadata": {},
   "outputs": [
    {
     "name": "stdout",
     "output_type": "stream",
     "text": [
      "Démarrage de GridSearchCV pour Random Forest...\n",
      "\n",
      "--- Résultats GridSearchCV pour Random Forest ---\n",
      "Meilleure MAE (Validation Croisée) : 7.96\n",
      "Meilleurs Paramètres : {'regressor__max_depth': 20, 'regressor__n_estimators': 100}\n",
      "\n",
      "--- Évaluation sur l'ensemble de test pour Random Forest ---\n",
      "MAE (Test) : 6.87\n",
      "R² (Test) : 0.79\n"
     ]
    }
   ],
   "source": [
    "from sklearn.model_selection import GridSearchCV\n",
    "from sklearn.pipeline import Pipeline\n",
    "from sklearn.ensemble import RandomForestRegressor\n",
    "from sklearn.metrics import mean_absolute_error, r2_score\n",
    "import numpy as np\n",
    "\n",
    "\n",
    "\n",
    "# ====================================================================\n",
    "# Random Forest Regressor (RFR)\n",
    "# ====================================================================\n",
    "\n",
    "# 1. Pipeline RFR : (Prétraitement -> Modèle)\n",
    "pipeline_rfr = Pipeline(steps=[\n",
    "    ('preprocessor', preprocessor),\n",
    "    ('regressor', RandomForestRegressor(random_state=42))\n",
    "])\n",
    "\n",
    "# 2. Grid d'hyperparamètres (Préfixé par 'regressor__')\n",
    "param_grid_rfr = {\n",
    "    'regressor__n_estimators': [50, 100, 200],\n",
    "    'regressor__max_depth': [10, 20, None]\n",
    "}\n",
    "\n",
    "# 3. GridSearchCV RFR\n",
    "print(\"Démarrage de GridSearchCV pour Random Forest...\")\n",
    "grid_search_rfr = GridSearchCV(\n",
    "    pipeline_rfr,\n",
    "    param_grid_rfr,\n",
    "    cv=5,  # 5-fold Cross-Validation\n",
    "    scoring='neg_mean_absolute_error',  # Métrique cible (maximisée)\n",
    "    n_jobs=-1  # Utiliser tous les cœurs du CPU\n",
    ")\n",
    "grid_search_rfr.fit(X_train, y_train)\n",
    "\n",
    "# 4. Meilleurs résultats de la validation croisée\n",
    "best_mae_cv_rfr = -grid_search_rfr.best_score_  # Convertir en MAE positif\n",
    "best_params_rfr = grid_search_rfr.best_params_\n",
    "print(\"\\n--- Résultats GridSearchCV pour Random Forest ---\")\n",
    "print(f\"Meilleure MAE (Validation Croisée) : {best_mae_cv_rfr:.2f}\")\n",
    "print(f\"Meilleurs Paramètres : {best_params_rfr}\")\n",
    "\n",
    "# 5. Évaluation sur l'ensemble de test\n",
    "best_model_rfr = grid_search_rfr.best_estimator_\n",
    "y_pred_rfr = best_model_rfr.predict(X_test)\n",
    "mae_test_rfr = mean_absolute_error(y_test, y_pred_rfr)\n",
    "r2_test_rfr = r2_score(y_test, y_pred_rfr)\n",
    "\n",
    "print(\"\\n--- Évaluation sur l'ensemble de test pour Random Forest ---\")\n",
    "print(f\"MAE (Test) : {mae_test_rfr:.2f}\")\n",
    "print(f\"R² (Test) : {r2_test_rfr:.2f}\")"
   ]
  },
  {
   "cell_type": "markdown",
   "id": "6bf441ea",
   "metadata": {},
   "source": [
    "### 4.2 Modèles de Support Vector Regressor (SVR) : Optimisation par GridSearchCV et Validation Croisée"
   ]
  },
  {
   "cell_type": "code",
   "execution_count": 25,
   "id": "3b5b4fae",
   "metadata": {},
   "outputs": [
    {
     "name": "stdout",
     "output_type": "stream",
     "text": [
      "Démarrage de GridSearchCV pour SVR...\n",
      "\n",
      "--- Résultats GridSearchCV pour SVR ---\n",
      "Meilleure MAE (Validation Croisée) : 6.55\n",
      "Meilleurs Paramètres : {'regressor__C': 1, 'regressor__kernel': 'linear'}\n",
      "\n",
      "--- Évaluation sur l'ensemble de test pour SVR ---\n",
      "MAE (Test) : 5.79\n",
      "R² (Test) : 0.82\n"
     ]
    }
   ],
   "source": [
    "from sklearn.model_selection import GridSearchCV\n",
    "from sklearn.pipeline import Pipeline\n",
    "from sklearn.svm import SVR\n",
    "from sklearn.metrics import mean_absolute_error, r2_score\n",
    "import numpy as np\n",
    "\n",
    "\n",
    "# ====================================================================\n",
    "# Support Vector Regressor (SVR)\n",
    "# ====================================================================\n",
    "\n",
    "# 1. Pipeline SVR : (Prétraitement -> Modèle)\n",
    "pipeline_svr = Pipeline(steps=[\n",
    "    ('preprocessor', preprocessor),\n",
    "    ('regressor', SVR())\n",
    "])\n",
    "\n",
    "# 2. Grid d'hyperparamètres (Préfixé par 'regressor__')\n",
    "param_grid_svr = {\n",
    "    'regressor__C': [0.1, 1, 10],\n",
    "    'regressor__kernel': ['rbf', 'linear']\n",
    "}\n",
    "\n",
    "# 3. GridSearchCV SVR\n",
    "print(\"Démarrage de GridSearchCV pour SVR...\")\n",
    "grid_search_svr = GridSearchCV(\n",
    "    pipeline_svr,\n",
    "    param_grid_svr,\n",
    "    cv=5,  # 5-fold Cross-Validation\n",
    "    scoring='neg_mean_absolute_error',  # Métrique cible (maximisée)\n",
    "    n_jobs=-1  # Utiliser tous les cœurs du CPU\n",
    ")\n",
    "grid_search_svr.fit(X_train, y_train)\n",
    "\n",
    "# 4. Meilleurs résultats de la validation croisée\n",
    "best_mae_cv_svr = -grid_search_svr.best_score_  # Convertir en MAE positif\n",
    "best_params_svr = grid_search_svr.best_params_\n",
    "print(\"\\n--- Résultats GridSearchCV pour SVR ---\")\n",
    "print(f\"Meilleure MAE (Validation Croisée) : {best_mae_cv_svr:.2f}\")\n",
    "print(f\"Meilleurs Paramètres : {best_params_svr}\")\n",
    "\n",
    "# 5. Évaluation sur l'ensemble de test\n",
    "best_model_svr = grid_search_svr.best_estimator_\n",
    "y_pred_svr = best_model_svr.predict(X_test)\n",
    "mae_test_svr = mean_absolute_error(y_test, y_pred_svr)\n",
    "r2_test_svr = r2_score(y_test, y_pred_svr)\n",
    "\n",
    "print(\"\\n--- Évaluation sur l'ensemble de test pour SVR ---\")\n",
    "print(f\"MAE (Test) : {mae_test_svr:.2f}\")\n",
    "print(f\"R² (Test) : {r2_test_svr:.2f}\")"
   ]
  },
  {
   "cell_type": "markdown",
   "id": "ba9d4cf2",
   "metadata": {},
   "source": [
    "## 5 : Évaluation des Performances et Choix du Modèle Final"
   ]
  },
  {
   "cell_type": "markdown",
   "id": "22e527f6",
   "metadata": {},
   "source": [
    "## Résultats du Modèle Sélectionné\n",
    "\n",
    "Le modèle **Support Vector Regressor (SVR)** a été retenu pour le déploiement. Il a obtenu la meilleure performance lors de la phase d'optimisation par **GridSearchCV** avec une **MAE** de **6.55** minutes sur le jeu d'entraînement. Évalué sur le jeu de test, il atteint une **MAE finale** de **5.79** minutes. Cela signifie qu'en moyenne, l'entreprise peut s'attendre à ce que la prédiction du temps de livraison s'écarte de la réalité de seulement **5.79** minutes, ce qui est très acceptable pour l'optimisation des tournées et l'information client. Le **R²** de **0.82** indique que le modèle explique **82**% de la variation totale du temps de livraison."
   ]
  }
 ],
 "metadata": {
  "kernelspec": {
   "display_name": "venv",
   "language": "python",
   "name": "python3"
  },
  "language_info": {
   "codemirror_mode": {
    "name": "ipython",
    "version": 3
   },
   "file_extension": ".py",
   "mimetype": "text/x-python",
   "name": "python",
   "nbconvert_exporter": "python",
   "pygments_lexer": "ipython3",
   "version": "3.13.7"
  }
 },
 "nbformat": 4,
 "nbformat_minor": 5
}
